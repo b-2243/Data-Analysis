{
 "cells": [
  {
   "cell_type": "markdown",
   "metadata": {},
   "source": [
    "# Module: NumPy Assignments\n",
    "## Lesson: NumPy\n",
    "### Assignment 1: Array Creation and Manipulation\n",
    "\n",
    "1. Create a NumPy array of shape (5, 5) filled with random integers between 1 and 20. Replace all the elements in the third column with 1.\n",
    "2. Create a NumPy array of shape (4, 4) with values from 1 to 16. Replace the diagonal elements with 0.\n",
    "\n",
    "### Assignment 2: Array Indexing and Slicing\n",
    "\n",
    "1. Create a NumPy array of shape (6, 6) with values from 1 to 36. Extract the sub-array consisting of the 3rd to 5th rows and 2nd to 4th columns.\n",
    "2. Create a NumPy array of shape (5, 5) with random integers. Extract the elements on the border.\n",
    "\n",
    "### Assignment 3: Array Operations\n",
    "\n",
    "1. Create two NumPy arrays of shape (3, 4) filled with random integers. Perform element-wise addition, subtraction, multiplication, and division.\n",
    "2. Create a NumPy array of shape (4, 4) with values from 1 to 16. Compute the row-wise and column-wise sum.\n",
    "\n",
    "### Assignment 4: Statistical Operations\n",
    "\n",
    "1. Create a NumPy array of shape (5, 5) filled with random integers. Compute the mean, median, standard deviation, and variance of the array.\n",
    "2. Create a NumPy array of shape (3, 3) with values from 1 to 9. Normalize the array (i.e., scale the values to have a mean of 0 and a standard deviation of 1).\n",
    "\n",
    "### Assignment 5: Broadcasting\n",
    "\n",
    "1. Create a NumPy array of shape (3, 3) filled with random integers. Add a 1D array of shape (3,) to each row of the 2D array using broadcasting.\n",
    "2. Create a NumPy array of shape (4, 4) filled with random integers. Subtract a 1D array of shape (4,) from each column of the 2D array using broadcasting.\n",
    "\n",
    "### Assignment 6: Linear Algebra\n",
    "\n",
    "1. Create a NumPy array of shape (3, 3) representing a matrix. Compute its determinant, inverse, and eigenvalues.\n",
    "2. Create two NumPy arrays of shape (2, 3) and (3, 2). Perform matrix multiplication on these arrays.\n",
    "\n",
    "### Assignment 7: Advanced Array Manipulation\n",
    "\n",
    "1. Create a NumPy array of shape (3, 3) with values from 1 to 9. Reshape the array to shape (1, 9) and then to shape (9, 1).\n",
    "2. Create a NumPy array of shape (5, 5) filled with random integers. Flatten the array and then reshape it back to (5, 5).\n",
    "\n",
    "### Assignment 8: Fancy Indexing and Boolean Indexing\n",
    "\n",
    "1. Create a NumPy array of shape (5, 5) filled with random integers. Use fancy indexing to extract the elements at the corners of the array.\n",
    "2. Create a NumPy array of shape (4, 4) filled with random integers. Use boolean indexing to set all elements greater than 10 to 10.\n",
    "\n",
    "### Assignment 9: Structured Arrays\n",
    "\n",
    "1. Create a structured array with fields 'name' (string), 'age' (integer), and 'weight' (float). Add some data and sort the array by age.\n",
    "2. Create a structured array with fields 'x' and 'y' (both integers). Add some data and compute the Euclidean distance between each pair of points.\n",
    "\n",
    "### Assignment 10: Masked Arrays\n",
    "\n",
    "1. Create a masked array of shape (4, 4) with random integers and mask the elements greater than 10. Compute the sum of the unmasked elements.\n",
    "2. Create a masked array of shape (3, 3) with random integers and mask the diagonal elements. Replace the masked elements with the mean of the unmasked elements."
   ]
  },
  {
   "cell_type": "code",
   "execution_count": null,
   "metadata": {},
   "outputs": [],
   "source": []
  },
  {
   "cell_type": "markdown",
   "id": "c5679133",
   "metadata": {},
   "source": [
    "### Assignment 1: Array Creation and Manipulation\n",
    "\n",
    "1. Create a NumPy array of shape (5, 5) filled with random integers between 1 and 20. Replace all the elements in the third column with 1.\n",
    "2. Create a NumPy array of shape (4, 4) with values from 1 to 16. Replace the diagonal elements with 0."
   ]
  },
  {
   "cell_type": "code",
   "execution_count": 2,
   "id": "eee0e395",
   "metadata": {},
   "outputs": [],
   "source": [
    "import numpy as np"
   ]
  },
  {
   "cell_type": "code",
   "execution_count": 10,
   "id": "1741c365",
   "metadata": {},
   "outputs": [
    {
     "name": "stdout",
     "output_type": "stream",
     "text": [
      "[[15  1  9 15  2]\n",
      " [ 5 13 10  6 10]\n",
      " [ 5 19 10  1  4]\n",
      " [ 2  6  5 10 11]\n",
      " [ 6  4 11 13 14]]\n",
      "[[15  1  1 15  2]\n",
      " [ 5 13  1  6 10]\n",
      " [ 5 19  1  1  4]\n",
      " [ 2  6  1 10 11]\n",
      " [ 6  4  1 13 14]]\n"
     ]
    }
   ],
   "source": [
    "## 1\n",
    "\n",
    "arr = np.random.randint(1, 20, size=(5,5))\n",
    "print(arr)\n",
    "\n",
    "arr[:,2] = 1\n",
    "print(arr)\n"
   ]
  },
  {
   "cell_type": "code",
   "execution_count": 15,
   "id": "4b82f165",
   "metadata": {},
   "outputs": [
    {
     "name": "stdout",
     "output_type": "stream",
     "text": [
      "[[ 0 12 10 15]\n",
      " [ 3  0  9  6]\n",
      " [ 7 13  0  3]\n",
      " [ 4  9  6  0]]\n"
     ]
    }
   ],
   "source": [
    "## 2\n",
    "\n",
    "arr = np.random.randint(1, 16, size=(4,4))\n",
    "\n",
    "np.fill_diagonal(arr,0)\n",
    "print(arr)"
   ]
  },
  {
   "cell_type": "markdown",
   "id": "e04d8ed2",
   "metadata": {},
   "source": [
    "### Assignment 2: Array Indexing and Slicing\n",
    "\n",
    "1. Create a NumPy array of shape (6, 6) with values from 1 to 36. Extract the sub-array consisting of the 3rd to 5th rows and 2nd to 4th columns.\n",
    "2. Create a NumPy array of shape (5, 5) with random integers. Extract the elements on the border."
   ]
  },
  {
   "cell_type": "code",
   "execution_count": null,
   "id": "68d1f7bd",
   "metadata": {},
   "outputs": [
    {
     "name": "stdout",
     "output_type": "stream",
     "text": [
      "[[ 3  3 11  4 24 27]\n",
      " [21 10  6  4 34 12]\n",
      " [11 20 22 16 30 27]\n",
      " [17  6  3  6  2 27]\n",
      " [ 6 28 19 29 31 35]\n",
      " [32 12 13 18 20 33]]\n"
     ]
    }
   ],
   "source": [
    "## 1\n",
    "\n",
    "arr = np.random.randint(1, 36, size=(6,6))\n",
    "\n",
    "print(arr)\n"
   ]
  },
  {
   "cell_type": "code",
   "execution_count": 20,
   "id": "d03c128c",
   "metadata": {},
   "outputs": [
    {
     "data": {
      "text/plain": [
       "array([[20, 22],\n",
       "       [ 6,  3]], dtype=int32)"
      ]
     },
     "execution_count": 20,
     "metadata": {},
     "output_type": "execute_result"
    }
   ],
   "source": [
    "arr[2:4,1:3]\n"
   ]
  },
  {
   "cell_type": "code",
   "execution_count": 27,
   "id": "11ae24a2",
   "metadata": {},
   "outputs": [
    {
     "name": "stdout",
     "output_type": "stream",
     "text": [
      "[[13  3 32 19 35]\n",
      " [33 10  5 15  5]\n",
      " [21 16 23 22 20]\n",
      " [10 18 16 15  4]\n",
      " [33 22 22 13 10]]\n",
      "top [13  3 32 19 35]\n",
      "bot [33 22 22 13 10]\n",
      "left [13 33 21 10 33]\n",
      "right [35  5 20  4 10]\n"
     ]
    }
   ],
   "source": [
    "## 2\n",
    "arr = np.random.randint(1, 36, size=(5,5))\n",
    "print(arr)\n",
    "\n",
    "\n",
    "top = arr[0,:]\n",
    "print(\"top\",top)\n",
    "\n",
    "bot = arr[4,:]\n",
    "print(\"bot\",bot)\n",
    "\n",
    "left = arr[:,0]\n",
    "print(\"left\",left)\n",
    "\n",
    "right = arr[:,4]\n",
    "print(\"right\",right)"
   ]
  },
  {
   "cell_type": "code",
   "execution_count": 32,
   "id": "62391af4",
   "metadata": {},
   "outputs": [
    {
     "data": {
      "text/plain": [
       "array([13,  3, 32, 19, 35, 33, 22, 22, 13, 10, 13, 33, 21, 10, 33, 35,  5,\n",
       "       20,  4, 10], dtype=int32)"
      ]
     },
     "execution_count": 32,
     "metadata": {},
     "output_type": "execute_result"
    }
   ],
   "source": [
    "np.concatenate((top, bot, left, right),axis=0)"
   ]
  },
  {
   "cell_type": "code",
   "execution_count": null,
   "id": "da41a090",
   "metadata": {},
   "outputs": [],
   "source": []
  },
  {
   "cell_type": "markdown",
   "id": "7b86eab8",
   "metadata": {},
   "source": [
    "### Assignment 3: Array Operations\n",
    "\n",
    "1. Create two NumPy arrays of shape (3, 4) filled with random integers. Perform element-wise addition, subtraction, multiplication, and division.\n",
    "2. Create a NumPy array of shape (4, 4) with values from 1 to 16. Compute the row-wise and column-wise sum."
   ]
  },
  {
   "cell_type": "code",
   "execution_count": 34,
   "id": "59e5c18d",
   "metadata": {},
   "outputs": [
    {
     "name": "stdout",
     "output_type": "stream",
     "text": [
      "[[ 4  1 30 35]\n",
      " [20 13 11 34]\n",
      " [10 32 22 25]]\n",
      "[[25 30 22 33]\n",
      " [20  8 15 29]\n",
      " [17  9 19 26]]\n",
      "add [[29 31 52 68]\n",
      " [40 21 26 63]\n",
      " [27 41 41 51]]\n",
      "sub [[-21 -29   8   2]\n",
      " [  0   5  -4   5]\n",
      " [ -7  23   3  -1]]\n",
      "mul [[ 100   30  660 1155]\n",
      " [ 400  104  165  986]\n",
      " [ 170  288  418  650]]\n",
      "div [[0.16       0.03333333 1.36363636 1.06060606]\n",
      " [1.         1.625      0.73333333 1.17241379]\n",
      " [0.58823529 3.55555556 1.15789474 0.96153846]]\n"
     ]
    }
   ],
   "source": [
    "## 1\n",
    "\n",
    "arr1 = np.random.randint(1, 36, size=(3,4))\n",
    "print(arr1)\n",
    "\n",
    "arr2 = np.random.randint(1, 36, size=(3,4))\n",
    "print(arr2)\n",
    "\n",
    "print(\"add\",arr1 + arr2)\n",
    "print(\"sub\",arr1 - arr2)\n",
    "print(\"mul\",arr1 * arr2)\n",
    "print(\"div\",arr1 / arr2)"
   ]
  },
  {
   "cell_type": "code",
   "execution_count": 39,
   "id": "9dc2b62b",
   "metadata": {},
   "outputs": [
    {
     "name": "stdout",
     "output_type": "stream",
     "text": [
      "[[10  9 10 14]\n",
      " [12  8 11  9]\n",
      " [ 7 12 11 10]\n",
      " [ 7 10 14  6]]\n",
      "row-wise sum [43 40 40 37]\n",
      "column-wise sum [36 39 46 39]\n"
     ]
    }
   ],
   "source": [
    "## 2\n",
    "\n",
    "arr = np.random.randint(1, 16, size=(4,4))\n",
    "print(arr)\n",
    "\n",
    "print(\"row-wise sum\", np.sum(arr, axis=1))\n",
    "print(\"column-wise sum\", np.sum(arr, axis=0))"
   ]
  },
  {
   "cell_type": "markdown",
   "id": "bef6300c",
   "metadata": {},
   "source": [
    "### Assignment 4: Statistical Operations\n",
    "\n",
    "1. Create a NumPy array of shape (5, 5) filled with random integers. Compute the mean, median, standard deviation, and variance of the array.\n",
    "2. Create a NumPy array of shape (3, 3) with values from 1 to 9. Normalize the array (i.e., scale the values to have a mean of 0 and a standard deviation of 1).\n"
   ]
  },
  {
   "cell_type": "code",
   "execution_count": 41,
   "id": "f94d4cb9",
   "metadata": {},
   "outputs": [
    {
     "name": "stdout",
     "output_type": "stream",
     "text": [
      "[[27 25 13 25 24]\n",
      " [29 20  6  9 16]\n",
      " [23  7 23 22 21]\n",
      " [22 34  6 33 29]\n",
      " [32 14  2 10 15]]\n",
      "mean 19.48\n",
      "meadian 22.0\n",
      "std 9.029374286183955\n",
      "var 81.52960000000002\n"
     ]
    }
   ],
   "source": [
    "## 1\n",
    "\n",
    "arr = np.random.randint(1, 36, size=(5,5))\n",
    "print(arr)\n",
    "\n",
    "print(\"mean\", np.mean(arr))\n",
    "print(\"meadian\", np.median(arr))\n",
    "print(\"std\", np.std(arr))\n",
    "print(\"var\", np.var(arr))"
   ]
  },
  {
   "cell_type": "code",
   "execution_count": 44,
   "id": "782d6cf4",
   "metadata": {},
   "outputs": [
    {
     "name": "stdout",
     "output_type": "stream",
     "text": [
      "[[ 1  3  4]\n",
      " [14  6  8]\n",
      " [12 15  4]]\n",
      "Normalized array:\n"
     ]
    }
   ],
   "source": [
    "## 2\n",
    "\n",
    "arr = np.random.randint(1, 16, size=(3,3))\n",
    "print(arr)\n",
    "\n",
    "mean = np.mean(arr)\n",
    "std = np.std(arr)\n",
    "\n",
    "normalized_arr = (arr - mean) / std\n",
    "print(\"Normalized array:\")"
   ]
  },
  {
   "cell_type": "markdown",
   "id": "a9867446",
   "metadata": {},
   "source": [
    "### Assignment 5: Broadcasting\n",
    "\n",
    "1. Create a NumPy array of shape (3, 3) filled with random integers. Add a 1D array of shape (3,) to each row of the 2D array using broadcasting.\n",
    "2. Create a NumPy array of shape (4, 4) filled with random integers. Subtract a 1D array of shape (4,) from each column of the 2D array using broadcasting."
   ]
  },
  {
   "cell_type": "code",
   "execution_count": 48,
   "id": "2b1e9608",
   "metadata": {},
   "outputs": [
    {
     "name": "stdout",
     "output_type": "stream",
     "text": [
      "[[ 8 14 12]\n",
      " [ 6 30  8]\n",
      " [10 11  8]]\n",
      "Row array: [29 17  6]\n",
      "Result after adding row array: [[37 31 18]\n",
      " [35 47 14]\n",
      " [39 28 14]]\n"
     ]
    }
   ],
   "source": [
    "## 1\n",
    "\n",
    "arr = np.random.randint(1, 36, size=(3,3))\n",
    "## 1\n",
    "print(arr)\n",
    "\n",
    "## 1\n",
    "\n",
    "row_arr = np.random.randint(1, 36, size=(3,))\n",
    "print(\"Row array:\", row_arr)\n",
    "\n",
    "result = arr + row_arr\n",
    "print(\"Result after adding row array:\", result)"
   ]
  },
  {
   "cell_type": "code",
   "execution_count": 50,
   "id": "a174f9f8",
   "metadata": {},
   "outputs": [
    {
     "name": "stdout",
     "output_type": "stream",
     "text": [
      "[[ 4  2 12 19]\n",
      " [27 12 27 21]\n",
      " [12  3 29  7]\n",
      " [32 35 19 25]]\n",
      "Row array: [19 16  6 24]\n"
     ]
    }
   ],
   "source": [
    "## 2\n",
    "\n",
    "arr = np.random.randint(1, 36, size=(4,4))\n",
    "print(arr)\n",
    "\n",
    "\n",
    "row_arr = np.random.randint(1, 36, size=(4,))\n",
    "print(\"Row array:\", row_arr)"
   ]
  },
  {
   "cell_type": "code",
   "execution_count": 55,
   "id": "b390209e",
   "metadata": {},
   "outputs": [
    {
     "data": {
      "text/plain": [
       "array([[19],\n",
       "       [16],\n",
       "       [ 6],\n",
       "       [24]], dtype=int32)"
      ]
     },
     "execution_count": 55,
     "metadata": {},
     "output_type": "execute_result"
    }
   ],
   "source": [
    "row_arr[:, np.newaxis]"
   ]
  },
  {
   "cell_type": "code",
   "execution_count": null,
   "id": "c96c0789",
   "metadata": {},
   "outputs": [
    {
     "name": "stdout",
     "output_type": "stream",
     "text": [
      "Result after adding row array: [[-15 -17  -7   0]\n",
      " [ 11  -4  11   5]\n",
      " [  6  -3  23   1]\n",
      " [  8  11  -5   1]]\n"
     ]
    }
   ],
   "source": [
    "result = arr - row_arr[:, np.newaxis]\n",
    "print(\"Result after subtract columns array:\", result)"
   ]
  },
  {
   "cell_type": "markdown",
   "id": "074c7a81",
   "metadata": {},
   "source": [
    "### Assignment 6: Linear Algebra\n",
    "\n",
    "1. Create a NumPy array of shape (3, 3) representing a matrix. Compute its determinant, inverse, and eigenvalues.\n",
    "2. Create two NumPy arrays of shape (2, 3) and (3, 2). Perform matrix multiplication on these arrays."
   ]
  },
  {
   "cell_type": "code",
   "execution_count": 57,
   "id": "bf88fb75",
   "metadata": {},
   "outputs": [
    {
     "name": "stdout",
     "output_type": "stream",
     "text": [
      "[[ 9 18 16]\n",
      " [ 8 18 16]\n",
      " [17  8 15]]\n",
      "derivative 142.0000000000005\n",
      "inverse [[ 1.00000000e+00 -1.00000000e+00  2.87351842e-16]\n",
      " [ 1.07042254e+00 -9.64788732e-01 -1.12676056e-01]\n",
      " [-1.70422535e+00  1.64788732e+00  1.26760563e-01]]\n",
      "transpose [41.52850064+0.j          0.23574968+1.83405577j  0.23574968-1.83405577j]\n"
     ]
    }
   ],
   "source": [
    "## 1\n",
    "arr = np.random.randint(1, 20, size=(3,3))\n",
    "print(arr)\n",
    "\n",
    "print(\"derivative\", np.linalg.det(arr))\n",
    "print(\"inverse\", np.linalg.inv(arr))\n",
    "print(\"transpose\", np.linalg.eigvals(arr))"
   ]
  },
  {
   "cell_type": "code",
   "execution_count": 64,
   "id": "a5c64c76",
   "metadata": {},
   "outputs": [
    {
     "name": "stdout",
     "output_type": "stream",
     "text": [
      "[[ 6 13  9]\n",
      " [ 9  3  7]]\n",
      "[[13 11]\n",
      " [18  5]\n",
      " [10 10]]\n",
      "matrix multiplication [[402 221]\n",
      " [241 184]]\n"
     ]
    }
   ],
   "source": [
    "## 2\n",
    "\n",
    "arr1 = np.random.randint(1, 20, size=(2,3))\n",
    "print(arr1)\n",
    "\n",
    "arr2 = np.random.randint(1, 20, size=(3,2))\n",
    "print(arr2)\n",
    "\n",
    "print(\"matrix multiplication\", np.dot(arr1, arr2))"
   ]
  },
  {
   "cell_type": "markdown",
   "id": "c6c497fe",
   "metadata": {},
   "source": [
    "### Assignment 7: Advanced Array Manipulation\n",
    "\n",
    "1. Create a NumPy array of shape (3, 3) with values from 1 to 9. Reshape the array to shape (1, 9) and then to shape (9, 1).\n",
    "2. Create a NumPy array of shape (5, 5) filled with random integers. Flatten the array and then reshape it back to (5, 5)."
   ]
  },
  {
   "cell_type": "code",
   "execution_count": 66,
   "id": "5eec138e",
   "metadata": {},
   "outputs": [
    {
     "name": "stdout",
     "output_type": "stream",
     "text": [
      "[[3 3 2]\n",
      " [2 6 5]\n",
      " [3 3 4]]\n",
      "reshape [[3 3 2 2 6 5 3 3 4]]\n",
      "reshape [[3]\n",
      " [3]\n",
      " [2]\n",
      " [2]\n",
      " [6]\n",
      " [5]\n",
      " [3]\n",
      " [3]\n",
      " [4]]\n"
     ]
    }
   ],
   "source": [
    "## 1\n",
    "arr = np.random.randint(1, 9, size=(3,3))\n",
    "print(arr)\n",
    "\n",
    "print(\"reshape\", arr.reshape(1,9))\n",
    "print(\"reshape\", arr.reshape(9,1))"
   ]
  },
  {
   "cell_type": "code",
   "execution_count": 79,
   "id": "fdc3f7e5",
   "metadata": {},
   "outputs": [
    {
     "name": "stdout",
     "output_type": "stream",
     "text": [
      "[[ 5  4 14  4 12]\n",
      " [20 13  5 20  2]\n",
      " [ 8  3 14 13 10]\n",
      " [ 6  3  2 19  3]\n",
      " [17  5  7  2  7]]\n",
      "flatten [ 5  4 14  4 12 20 13  5 20  2  8  3 14 13 10  6  3  2 19  3 17  5  7  2\n",
      "  7]\n",
      "Reshaped array:\n",
      "[[ 5  4 14  4 12]\n",
      " [20 13  5 20  2]\n",
      " [ 8  3 14 13 10]\n",
      " [ 6  3  2 19  3]\n",
      " [17  5  7  2  7]]\n"
     ]
    }
   ],
   "source": [
    "## 2\n",
    "arr = np.random.randint(1, 21, size=(5,5))\n",
    "print(arr)\n",
    "\n",
    "flattened_arr = arr.flatten()\n",
    "print(\"flatten\", flattened_arr)\n",
    "\n",
    "# Reshape the array back to (5, 5)\n",
    "reshaped_array = flattened_arr.reshape((5, 5))\n",
    "print(\"Reshaped array:\")\n",
    "print(reshaped_array)"
   ]
  },
  {
   "cell_type": "markdown",
   "id": "d77e1f9f",
   "metadata": {},
   "source": [
    "### Assignment 8: Fancy Indexing and Boolean Indexing\n",
    "\n",
    "1. Create a NumPy array of shape (5, 5) filled with random integers. Use fancy indexing to extract the elements at the corners of the array.\n",
    "2. Create a NumPy array of shape (4, 4) filled with random integers. Use boolean indexing to set all elements greater than 10 to 10."
   ]
  },
  {
   "cell_type": "code",
   "execution_count": null,
   "id": "0ec84689",
   "metadata": {},
   "outputs": [],
   "source": [
    "# Top-Left → arr[0, 0] → 6\n",
    "\n",
    "# Top-Right → arr[0, 4] → 1\n",
    "\n",
    "# Bottom-Left → arr[4, 0] → 15\n",
    "\n",
    "# Bottom-Right → arr[4, 4] → 1"
   ]
  },
  {
   "cell_type": "code",
   "execution_count": 88,
   "id": "cd1513f3",
   "metadata": {},
   "outputs": [
    {
     "name": "stdout",
     "output_type": "stream",
     "text": [
      "[[ 6 17 19 19  1]\n",
      " [15  2 12 10  2]\n",
      " [ 1  1 14 17  8]\n",
      " [14 15 11  2 17]\n",
      " [15  6  1 18  1]]\n",
      "corner_indices [ 6  1 15  1]\n"
     ]
    }
   ],
   "source": [
    "## 1\n",
    "arr = np.random.randint(1, 21, size=(5,5))\n",
    "print(arr)\n",
    "\n",
    "corner_indices = ([0, 0, 4, 4], [0, 4, 0, 4])\n",
    "\n",
    "print(\"corner_indices\",arr[corner_indices])"
   ]
  },
  {
   "cell_type": "code",
   "execution_count": 85,
   "id": "b69ce165",
   "metadata": {},
   "outputs": [
    {
     "name": "stdout",
     "output_type": "stream",
     "text": [
      "[[18 17  5 17]\n",
      " [16 15  3 13]\n",
      " [ 9 14 13  1]\n",
      " [13  8  1 12]]\n",
      "[[10 10  5 10]\n",
      " [10 10  3 10]\n",
      " [ 9 10 10  1]\n",
      " [10  8  1 10]]\n"
     ]
    }
   ],
   "source": [
    "## 2\n",
    "arr = np.random.randint(1, 21, size=(4,4))\n",
    "print(arr)\n",
    "\n",
    "arr[arr > 10] = 10\n",
    "print(arr)\n"
   ]
  },
  {
   "cell_type": "markdown",
   "id": "a60964ec",
   "metadata": {},
   "source": [
    "### Assignment 9: Structured Arrays\n",
    "\n",
    "1. Create a structured array with fields 'name' (string), 'age' (integer), and 'weight' (float). Add some data and sort the array by age.\n",
    "2. Create a structured array with fields 'x' and 'y' (both integers). Add some data and compute the Euclidean distance between each pair of points.\n"
   ]
  },
  {
   "cell_type": "code",
   "execution_count": null,
   "id": "540adda1",
   "metadata": {},
   "outputs": [
    {
     "name": "stdout",
     "output_type": "stream",
     "text": [
      "Original array:\n",
      "[('Alice', 25, 55.5) ('Bob', 30, 85.3) ('Charlie', 20, 65.2)]\n",
      "Sorted array by age:\n",
      "[('Charlie', 20, 65.2) ('Alice', 25, 55.5) ('Bob', 30, 85.3)]\n"
     ]
    }
   ],
   "source": [
    "### 1\n",
    "\n",
    "data_type = [('name', 'U10'), ('age', 'i4'), ('weight', 'f4')]\n",
    "data = np.array([('Alice', 25, 55.5), ('Bob', 30, 85.3), ('Charlie', 20, 65.2)], dtype=data_type)\n",
    "print(\"Original array:\")\n",
    "print(data)\n",
    "\n",
    "sorted_data = np.sort(data, order='age')\n",
    "print(\"Sorted array by age:\")\n",
    "print(sorted_data)"
   ]
  },
  {
   "cell_type": "code",
   "execution_count": null,
   "id": "5fe64468",
   "metadata": {},
   "outputs": [
    {
     "name": "stdout",
     "output_type": "stream",
     "text": [
      "Original array:\n",
      "[(1, 2) (3, 4) (5, 6)]\n",
      "Euclidean distances:\n",
      "[[0.         2.82842712 5.65685425]\n",
      " [2.82842712 0.         2.82842712]\n",
      " [5.65685425 2.82842712 0.        ]]\n"
     ]
    }
   ],
   "source": [
    "#### 2\n",
    "\n",
    "data_type = [('x', 'i4'), ('y', 'i4')]\n",
    "data = np.array([(1, 2), (3, 4), (5, 6)], dtype=data_type)\n",
    "print(\"Original array:\")\n",
    "print(data)\n",
    "\n",
    "distances = np.sqrt((data['x'][:, np.newaxis] - data['x'])**2 + (data['y'][:, np.newaxis] - data['y'])**2)\n",
    "print(\"Euclidean distances:\")\n",
    "print(distances)"
   ]
  },
  {
   "cell_type": "markdown",
   "id": "2847f5fe",
   "metadata": {},
   "source": [
    "### Assignment 10: Masked Arrays\n",
    "\n",
    "1. Create a masked array of shape (4, 4) with random integers and mask the elements greater than 10. Compute the sum of the unmasked elements.\n",
    "2. Create a masked array of shape (3, 3) with random integers and mask the diagonal elements. Replace the masked elements with the mean of the unmasked elements."
   ]
  },
  {
   "cell_type": "code",
   "execution_count": 100,
   "id": "c4f63eb3",
   "metadata": {},
   "outputs": [
    {
     "name": "stdout",
     "output_type": "stream",
     "text": [
      "[[13  1 16 20 20]\n",
      " [ 2 14 20  3 17]\n",
      " [ 4 16 12 12 10]\n",
      " [ 1  5  1 15  2]\n",
      " [13 11  9 14 20]]\n",
      "Elements greater than 10: [[-- 1 -- -- --]\n",
      " [2 -- -- 3 --]\n",
      " [4 -- -- -- 10]\n",
      " [1 5 1 -- 2]\n",
      " [-- -- 9 -- --]]\n",
      "Unmasked elements: 38\n"
     ]
    }
   ],
   "source": [
    "## 1\n",
    "import numpy.ma as ma  # ma = masked array module\n",
    "\n",
    "arr = np.random.randint(1, 21, size=(5,5))\n",
    "print(arr)\n",
    "\n",
    "new_arr = ma.masked_greater(arr, 10)\n",
    "print(\"Elements greater than 10:\", new_arr)\n",
    "\n",
    "print(\"Unmasked elements:\", new_arr.sum())"
   ]
  },
  {
   "cell_type": "code",
   "execution_count": 101,
   "id": "9be7746b",
   "metadata": {},
   "outputs": [
    {
     "name": "stdout",
     "output_type": "stream",
     "text": [
      "Original array:\n",
      "[[15 14  8]\n",
      " [10 17 17]\n",
      " [ 1 12  7]]\n",
      "Masked array:\n",
      "[[-- 14 8]\n",
      " [10 -- 17]\n",
      " [1 12 --]]\n",
      "Modified masked array:\n",
      "[[10 14  8]\n",
      " [10 10 17]\n",
      " [ 1 12 10]]\n"
     ]
    }
   ],
   "source": [
    "## 2\n",
    "\n",
    "array = np.random.randint(1, 21, size=(3, 3))\n",
    "masked_array = ma.masked_array(array, mask=np.eye(3, dtype=bool))\n",
    "print(\"Original array:\")\n",
    "print(array)\n",
    "print(\"Masked array:\")\n",
    "print(masked_array)\n",
    "\n",
    "mean_unmasked = masked_array.mean()\n",
    "masked_array = masked_array.filled(mean_unmasked)\n",
    "print(\"Modified masked array:\")\n",
    "print(masked_array)"
   ]
  },
  {
   "cell_type": "code",
   "execution_count": null,
   "id": "7b47a923",
   "metadata": {},
   "outputs": [],
   "source": []
  }
 ],
 "metadata": {
  "kernelspec": {
   "display_name": ".venv",
   "language": "python",
   "name": "python3"
  },
  "language_info": {
   "codemirror_mode": {
    "name": "ipython",
    "version": 3
   },
   "file_extension": ".py",
   "mimetype": "text/x-python",
   "name": "python",
   "nbconvert_exporter": "python",
   "pygments_lexer": "ipython3",
   "version": "3.13.5"
  }
 },
 "nbformat": 4,
 "nbformat_minor": 5
}

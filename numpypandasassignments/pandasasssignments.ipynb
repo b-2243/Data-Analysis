{
 "cells": [
  {
   "cell_type": "markdown",
   "metadata": {},
   "source": [
    "# Module: Pandas Assignments\n",
    "## Lesson: Pandas\n",
    "### Assignment 1: DataFrame Creation and Indexing\n",
    "\n",
    "1. Create a Pandas DataFrame with 4 columns and 6 rows filled with random integers. Set the index to be the first column.\n",
    "2. Create a Pandas DataFrame with columns 'A', 'B', 'C' and index 'X', 'Y', 'Z'. Fill the DataFrame with random integers and access the element at row 'Y' and column 'B'.\n",
    "\n",
    "### Assignment 2: DataFrame Operations\n",
    "\n",
    "1. Create a Pandas DataFrame with 3 columns and 5 rows filled with random integers. Add a new column that is the product of the first two columns.\n",
    "2. Create a Pandas DataFrame with 3 columns and 4 rows filled with random integers. Compute the row-wise and column-wise sum.\n",
    "\n",
    "### Assignment 3: Data Cleaning\n",
    "\n",
    "1. Create a Pandas DataFrame with 3 columns and 5 rows filled with random integers. Introduce some NaN values. Fill the NaN values with the mean of the respective columns.\n",
    "2. Create a Pandas DataFrame with 4 columns and 6 rows filled with random integers. Introduce some NaN values. Drop the rows with any NaN values.\n",
    "\n",
    "### Assignment 4: Data Aggregation\n",
    "\n",
    "1. Create a Pandas DataFrame with 2 columns: 'Category' and 'Value'. Fill the 'Category' column with random categories ('A', 'B', 'C') and the 'Value' column with random integers. Group the DataFrame by 'Category' and compute the sum and mean of 'Value' for each category.\n",
    "2. Create a Pandas DataFrame with 3 columns: 'Product', 'Category', and 'Sales'. Fill the DataFrame with random data. Group the DataFrame by 'Category' and compute the total sales for each category.\n",
    "\n",
    "### Assignment 5: Merging DataFrames\n",
    "\n",
    "1. Create two Pandas DataFrames with a common column. Merge the DataFrames using the common column.\n",
    "2. Create two Pandas DataFrames with different columns. Concatenate the DataFrames along the rows and along the columns.\n",
    "\n",
    "### Assignment 6: Time Series Analysis\n",
    "\n",
    "1. Create a Pandas DataFrame with a datetime index and one column filled with random integers. Resample the DataFrame to compute the monthly mean of the values.\n",
    "2. Create a Pandas DataFrame with a datetime index ranging from '2021-01-01' to '2021-12-31' and one column filled with random integers. Compute the rolling mean with a window of 7 days.\n",
    "\n",
    "### Assignment 7: MultiIndex DataFrame\n",
    "\n",
    "1. Create a Pandas DataFrame with a MultiIndex (hierarchical index). Perform some basic indexing and slicing operations on the MultiIndex DataFrame.\n",
    "2. Create a Pandas DataFrame with MultiIndex consisting of 'Category' and 'SubCategory'. Fill the DataFrame with random data and compute the sum of values for each 'Category' and 'SubCategory'.\n",
    "\n",
    "### Assignment 8: Pivot Tables\n",
    "\n",
    "1. Create a Pandas DataFrame with columns 'Date', 'Category', and 'Value'. Create a pivot table to compute the sum of 'Value' for each 'Category' by 'Date'.\n",
    "2. Create a Pandas DataFrame with columns 'Year', 'Quarter', and 'Revenue'. Create a pivot table to compute the mean 'Revenue' for each 'Quarter' by 'Year'.\n",
    "\n",
    "### Assignment 9: Applying Functions\n",
    "\n",
    "1. Create a Pandas DataFrame with 3 columns and 5 rows filled with random integers. Apply a function that doubles the values of the DataFrame.\n",
    "2. Create a Pandas DataFrame with 3 columns and 6 rows filled with random integers. Apply a lambda function to create a new column that is the sum of the existing columns.\n",
    "\n",
    "### Assignment 10: Working with Text Data\n",
    "\n",
    "1. Create a Pandas Series with 5 random text strings. Convert all the strings to uppercase.\n",
    "2. Create a Pandas Series with 5 random text strings. Extract the first three characters of each string.\n"
   ]
  },
  {
   "cell_type": "code",
   "execution_count": 4,
   "id": "2d91f9ea",
   "metadata": {},
   "outputs": [],
   "source": [
    "import pandas as pd\n",
    "import numpy as np"
   ]
  },
  {
   "cell_type": "markdown",
   "id": "6260c5c3",
   "metadata": {},
   "source": [
    "### Assignment 1: DataFrame Creation and Indexing\n",
    "\n",
    "1. Create a Pandas DataFrame with 4 columns and 6 rows filled with random integers. Set the index to be the first column.\n",
    "2. Create a Pandas DataFrame with columns 'A', 'B', 'C' and index 'X', 'Y', 'Z'. Fill the DataFrame with random integers and access the element at row 'Y' and column 'B'."
   ]
  },
  {
   "cell_type": "code",
   "execution_count": 5,
   "id": "1b23116a",
   "metadata": {},
   "outputs": [
    {
     "name": "stdout",
     "output_type": "stream",
     "text": [
      "Original DataFrame:\n",
      "    a   b   c   d\n",
      "0  15   9  13   8\n",
      "1   4  16   8   5\n",
      "2  12  13  14  14\n",
      "3  19   2  19  10\n",
      "4  10   6   8  15\n",
      "5  15  15  11  18\n",
      "\n",
      "DataFrame with 'a' as index:\n",
      "     b   c   d\n",
      "a             \n",
      "15   9  13   8\n",
      "4   16   8   5\n",
      "12  13  14  14\n",
      "19   2  19  10\n",
      "10   6   8  15\n",
      "15  15  11  18\n"
     ]
    }
   ],
   "source": [
    "data = pd.DataFrame(np.random.randint(1, 21, size=(6, 4)),columns=['a', 'b', 'c', 'd'])\n",
    "print(\"Original DataFrame:\")\n",
    "print(data)\n",
    "\n",
    "data.set_index('a', inplace=True)\n",
    "print(\"\\nDataFrame with 'a' as index:\")     \n",
    "print(data)"
   ]
  },
  {
   "cell_type": "code",
   "execution_count": 6,
   "id": "4e5f4557",
   "metadata": {},
   "outputs": [
    {
     "name": "stdout",
     "output_type": "stream",
     "text": [
      "\n",
      "DataFrame with custom index:\n",
      "    x   y   z\n",
      "A   5  18  15\n",
      "B   9   1  18\n",
      "C  11   5  19\n",
      "1\n"
     ]
    }
   ],
   "source": [
    "data = pd.DataFrame(np.random.randint(1, 21, size=(3, 3)), columns=['x', 'y', 'z'], index=['A', 'B', 'C'])\n",
    "print(\"\\nDataFrame with custom index:\")\n",
    "print(data)\n",
    "\n",
    "print(data.at['B','y'])   # at: find a single value"
   ]
  },
  {
   "cell_type": "markdown",
   "id": "ed0274a3",
   "metadata": {},
   "source": [
    "### Assignment 2: DataFrame Operations\n",
    "\n",
    "1. Create a Pandas DataFrame with 3 columns and 5 rows filled with random integers. Add a new column that is the product of the first two columns.\n",
    "2. Create a Pandas DataFrame with 3 columns and 4 rows filled with random integers. Compute the row-wise and column-wise sum."
   ]
  },
  {
   "cell_type": "code",
   "execution_count": 7,
   "id": "2c5f51df",
   "metadata": {},
   "outputs": [
    {
     "name": "stdout",
     "output_type": "stream",
     "text": [
      "\n",
      "DataFrame with custom index:\n",
      "    x   y   z\n",
      "A  14  10  16\n",
      "B   5  14  20\n",
      "C  18   8   2\n",
      "D  16  16   5\n",
      "E   9  14  13\n",
      "\n",
      "DataFrame after adding new column 'f':\n",
      "    x   y   z    f\n",
      "A  14  10  16  140\n",
      "B   5  14  20   70\n",
      "C  18   8   2  144\n",
      "D  16  16   5  256\n",
      "E   9  14  13  126\n"
     ]
    }
   ],
   "source": [
    "data = pd.DataFrame(np.random.randint(1, 21, size=(5, 3)), columns=['x', 'y', 'z'], index=['A', 'B', 'C','D','E'])\n",
    "print(\"\\nDataFrame with custom index:\")\n",
    "print(data)\n",
    "\n",
    "data['f'] =data['x'] * data['y']\n",
    "print(\"\\nDataFrame after adding new column 'f':\")   \n",
    "print(data)\n"
   ]
  },
  {
   "cell_type": "code",
   "execution_count": 8,
   "id": "881075c5",
   "metadata": {},
   "outputs": [
    {
     "name": "stdout",
     "output_type": "stream",
     "text": [
      "\n",
      "DataFrame with custom index:\n",
      "    x   y   z\n",
      "0  15  16  17\n",
      "1   1   6  16\n",
      "2   8  11  18\n",
      "3   9   6   3\n",
      "row wise sum: 0    48\n",
      "1    23\n",
      "2    37\n",
      "3    18\n",
      "dtype: int64\n",
      "column wise sum: x    33\n",
      "y    39\n",
      "z    54\n",
      "dtype: int64\n"
     ]
    }
   ],
   "source": [
    "data = pd.DataFrame(np.random.randint(1, 21, size=(4, 3)), columns=['x', 'y', 'z'])\n",
    "print(\"\\nDataFrame with custom index:\")\n",
    "print(data)\n",
    "\n",
    "\n",
    "print(\"row wise sum:\", data.sum(axis=1))\n",
    "print(\"column wise sum:\", data.sum(axis=0))"
   ]
  },
  {
   "cell_type": "markdown",
   "id": "48a2d76d",
   "metadata": {},
   "source": [
    "### Assignment 3: Data Cleaning\n",
    "\n",
    "1. Create a Pandas DataFrame with 3 columns and 5 rows filled with random integers. Introduce some NaN values. Fill the NaN values with the mean of the respective columns.\n",
    "2. Create a Pandas DataFrame with 4 columns and 6 rows filled with random integers. Introduce some NaN values. Drop the rows with any NaN values."
   ]
  },
  {
   "cell_type": "code",
   "execution_count": 21,
   "id": "1f99187f",
   "metadata": {},
   "outputs": [
    {
     "name": "stdout",
     "output_type": "stream",
     "text": [
      "          x         y         z\n",
      "0  0.307733       NaN  0.994129\n",
      "1  0.969033  0.977744  0.466695\n",
      "2  0.291249  0.051534       NaN\n",
      "3  0.580763  0.165095  0.355028\n",
      "4       NaN  0.382487  0.997591\n",
      "          x         y         z\n",
      "0  0.307733       NaN  0.994129\n",
      "1  0.969033  0.977744  0.466695\n",
      "2  0.291249  0.051534       NaN\n",
      "3  0.580763  0.165095  0.355028\n",
      "4       NaN  0.382487  0.997591\n"
     ]
    }
   ],
   "source": [
    "df = pd.DataFrame(np.random.rand(5, 3), columns=['x', 'y', 'z'])\n",
    "\n",
    "df.iloc[0, 1] = np.nan\n",
    "df.iloc[2, 2] = np.nan\n",
    "df.iloc[4, 0] = np.nan\n",
    "\n",
    "print(df)\n",
    "\n",
    "\n",
    "df.fillna(df.mean())\n",
    "print(df)\n"
   ]
  },
  {
   "cell_type": "code",
   "execution_count": 22,
   "id": "f0cdc610",
   "metadata": {},
   "outputs": [
    {
     "name": "stdout",
     "output_type": "stream",
     "text": [
      "          x         y         z         p\n",
      "0  0.272282  0.562479  0.730236  0.669528\n",
      "1  0.549987  0.308093  0.822261  0.450184\n",
      "2  0.106207  0.210312       NaN  0.062842\n",
      "3  0.879126  0.825897  0.006869  0.750330\n",
      "4       NaN  0.868393  0.307001  0.199781\n",
      "5  0.562451  0.656726  0.622322  0.077771\n",
      "None\n"
     ]
    }
   ],
   "source": [
    "df = pd.DataFrame(np.random.rand(6, 4), columns=['x', 'y', 'z','p'])\n",
    "df.iloc[2, 2] = np.nan\n",
    "df.iloc[4, 0] = np.nan\n",
    "\n",
    "print(df)\n",
    "\n",
    "\n",
    "df = df.dropna(inplace=True)\n",
    "print(df)\n"
   ]
  },
  {
   "cell_type": "markdown",
   "id": "77f70ff8",
   "metadata": {},
   "source": [
    "### Assignment 4: Data Aggregation\n",
    "\n",
    "1. Create a Pandas DataFrame with 2 columns: 'Category' and 'Value'. Fill the 'Category' column with random categories ('A', 'B', 'C') and the 'Value' column with random integers. Group the DataFrame by 'Category' and compute the sum and mean of 'Value' for each category.\n",
    "2. Create a Pandas DataFrame with 3 columns: 'Product', 'Category', and 'Sales'. Fill the DataFrame with random data. Group the DataFrame by 'Category' and compute the total sales for each category."
   ]
  },
  {
   "cell_type": "code",
   "execution_count": 31,
   "id": "c7931836",
   "metadata": {},
   "outputs": [
    {
     "name": "stdout",
     "output_type": "stream",
     "text": [
      "   category     value\n",
      "0         C  0.199056\n",
      "1         C  0.467345\n",
      "2         C  0.357123\n",
      "3         C  0.463048\n",
      "4         C  0.057354\n",
      "..      ...       ...\n",
      "95        C  0.171605\n",
      "96        C  0.552906\n",
      "97        C  0.108441\n",
      "98        C  0.090344\n",
      "99        A  0.609437\n",
      "\n",
      "[100 rows x 2 columns]\n",
      "                sum      mean\n",
      "category                     \n",
      "A         13.744239  0.528625\n",
      "B         16.850392  0.495600\n",
      "C         20.731326  0.518283\n"
     ]
    }
   ],
   "source": [
    "df = pd.DataFrame({'category':np.random.choice(['A', 'B', 'C'], size=100),\n",
    "                   'value':np.random.rand(100)})\n",
    "print(df)\n",
    "\n",
    "grp = df.groupby('category')['value'].agg(['sum','mean'])\n",
    "print(grp)"
   ]
  },
  {
   "cell_type": "code",
   "execution_count": 34,
   "id": "4a623a17",
   "metadata": {},
   "outputs": [
    {
     "name": "stdout",
     "output_type": "stream",
     "text": [
      "   product category     sales\n",
      "0        z        B  0.002769\n",
      "1        z        C  0.289971\n",
      "2        z        C  0.865393\n",
      "3        z        B  0.164535\n",
      "4        z        C  0.106462\n",
      "..     ...      ...       ...\n",
      "95       z        A  0.836468\n",
      "96       z        C  0.613034\n",
      "97       z        B  0.457351\n",
      "98       z        A  0.052219\n",
      "99       z        A  0.651813\n",
      "\n",
      "[100 rows x 3 columns]\n",
      "category\n",
      "A    20.355761\n",
      "B     7.921868\n",
      "C    18.351375\n",
      "Name: sales, dtype: float64\n"
     ]
    }
   ],
   "source": [
    "df = pd.DataFrame({'product':np.random.choice(['x','y','z']),'category':np.random.choice(['A', 'B', 'C'], size=100),\n",
    "                   'sales':np.random.rand(100)})\n",
    "print(df)\n",
    "\n",
    "\n",
    "print(df.groupby('category')['sales'].sum())"
   ]
  },
  {
   "cell_type": "markdown",
   "id": "45d28669",
   "metadata": {},
   "source": [
    "### Assignment 5: Merging DataFrames\n",
    "\n",
    "1. Create two Pandas DataFrames with a common column. Merge the DataFrames using the common column.\n",
    "2. Create two Pandas DataFrames with different columns. Concatenate the DataFrames along the rows and along the columns."
   ]
  },
  {
   "cell_type": "code",
   "execution_count": 45,
   "metadata": {},
   "outputs": [
    {
     "name": "stdout",
     "output_type": "stream",
     "text": [
      "  Key  Value1\n",
      "0   A      61\n",
      "1   B      12\n",
      "2   C      58\n",
      "3   D      76\n",
      "  Key  Value2\n",
      "0   A      48\n",
      "1   B      84\n",
      "2   C      58\n",
      "3   E      21\n"
     ]
    },
    {
     "data": {
      "text/html": [
       "<div>\n",
       "<style scoped>\n",
       "    .dataframe tbody tr th:only-of-type {\n",
       "        vertical-align: middle;\n",
       "    }\n",
       "\n",
       "    .dataframe tbody tr th {\n",
       "        vertical-align: top;\n",
       "    }\n",
       "\n",
       "    .dataframe thead th {\n",
       "        text-align: right;\n",
       "    }\n",
       "</style>\n",
       "<table border=\"1\" class=\"dataframe\">\n",
       "  <thead>\n",
       "    <tr style=\"text-align: right;\">\n",
       "      <th></th>\n",
       "      <th>Key</th>\n",
       "      <th>Value1</th>\n",
       "      <th>Value2</th>\n",
       "    </tr>\n",
       "  </thead>\n",
       "  <tbody>\n",
       "    <tr>\n",
       "      <th>0</th>\n",
       "      <td>A</td>\n",
       "      <td>61</td>\n",
       "      <td>48</td>\n",
       "    </tr>\n",
       "    <tr>\n",
       "      <th>1</th>\n",
       "      <td>B</td>\n",
       "      <td>12</td>\n",
       "      <td>84</td>\n",
       "    </tr>\n",
       "    <tr>\n",
       "      <th>2</th>\n",
       "      <td>C</td>\n",
       "      <td>58</td>\n",
       "      <td>58</td>\n",
       "    </tr>\n",
       "  </tbody>\n",
       "</table>\n",
       "</div>"
      ],
      "text/plain": [
       "  Key  Value1  Value2\n",
       "0   A      61      48\n",
       "1   B      12      84\n",
       "2   C      58      58"
      ]
     },
     "execution_count": 45,
     "metadata": {},
     "output_type": "execute_result"
    }
   ],
   "source": [
    "df1 = pd.DataFrame({'Key': ['A', 'B', 'C', 'D'], 'Value1': np.random.randint(1, 100, size=4)})\n",
    "df2 = pd.DataFrame({'Key': ['A', 'B', 'C', 'E'], 'Value2': np.random.randint(1, 100, size=4)})\n",
    "print(df1)\n",
    "print(df2)\n",
    "\n",
    "pd.merge(df1,df2, on='Key')"
   ]
  },
  {
   "cell_type": "code",
   "execution_count": 50,
   "id": "2ba8d7e0",
   "metadata": {},
   "outputs": [
    {
     "name": "stdout",
     "output_type": "stream",
     "text": [
      "  Key  Value1 name  Value2\n",
      "0   A       5    A      75\n",
      "1   B      26    B      12\n",
      "2   C      99    C      14\n",
      "3   D      21    E      91\n"
     ]
    }
   ],
   "source": [
    "df1 = pd.DataFrame({'Key': ['A', 'B', 'C', 'D'], 'Value1': np.random.randint(1, 100, size=4)})\n",
    "df2 = pd.DataFrame({'name': ['A', 'B', 'C', 'E'], 'Value2': np.random.randint(1, 100, size=4)})\n",
    "\n",
    "concate = pd.concat([df1, df2], axis=1)\n",
    "print(concate)\n",
    "\n"
   ]
  },
  {
   "cell_type": "code",
   "execution_count": 52,
   "id": "0a60298b",
   "metadata": {},
   "outputs": [
    {
     "name": "stdout",
     "output_type": "stream",
     "text": [
      "   Key  Value1 name  Value2\n",
      "0    A     5.0  NaN     NaN\n",
      "1    B    26.0  NaN     NaN\n",
      "2    C    99.0  NaN     NaN\n",
      "3    D    21.0  NaN     NaN\n",
      "0  NaN     NaN    A    75.0\n",
      "1  NaN     NaN    B    12.0\n",
      "2  NaN     NaN    C    14.0\n",
      "3  NaN     NaN    E    91.0\n"
     ]
    }
   ],
   "source": [
    "concate1 = pd.concat([df1, df2], axis=0)\n",
    "print(concate1)"
   ]
  },
  {
   "cell_type": "markdown",
   "id": "914eab7c",
   "metadata": {},
   "source": [
    "### Assignment 6: Time Series Analysis\n",
    "\n",
    "1. Create a Pandas DataFrame with a datetime index and one column filled with random integers. Resample the DataFrame to compute the monthly mean of the values.\n",
    "2. Create a Pandas DataFrame with a datetime index ranging from '2021-01-01' to '2021-12-31' and one column filled with random integers. Compute the rolling mean with a window of 7 days."
   ]
  },
  {
   "cell_type": "code",
   "execution_count": 128,
   "id": "8094242d",
   "metadata": {},
   "outputs": [
    {
     "name": "stdout",
     "output_type": "stream",
     "text": [
      "          Date\n",
      "0   2023-01-01\n",
      "1   2023-01-02\n",
      "2   2023-01-03\n",
      "3   2023-01-04\n",
      "4   2023-01-05\n",
      "..         ...\n",
      "248 2023-09-06\n",
      "249 2023-09-07\n",
      "250 2023-09-08\n",
      "251 2023-09-09\n",
      "252 2023-09-10\n",
      "\n",
      "[253 rows x 1 columns]\n",
      "Empty DataFrame\n",
      "Columns: []\n",
      "Index: [2023-01-01 00:00:00, 2023-01-02 00:00:00, 2023-01-03 00:00:00, 2023-01-04 00:00:00, 2023-01-05 00:00:00, 2023-01-06 00:00:00, 2023-01-07 00:00:00, 2023-01-08 00:00:00, 2023-01-09 00:00:00, 2023-01-10 00:00:00, 2023-01-11 00:00:00, 2023-01-12 00:00:00, 2023-01-13 00:00:00, 2023-01-14 00:00:00, 2023-01-15 00:00:00, 2023-01-16 00:00:00, 2023-01-17 00:00:00, 2023-01-18 00:00:00, 2023-01-19 00:00:00, 2023-01-20 00:00:00, 2023-01-21 00:00:00, 2023-01-22 00:00:00, 2023-01-23 00:00:00, 2023-01-24 00:00:00, 2023-01-25 00:00:00, 2023-01-26 00:00:00, 2023-01-27 00:00:00, 2023-01-28 00:00:00, 2023-01-29 00:00:00, 2023-01-30 00:00:00, 2023-01-31 00:00:00, 2023-02-01 00:00:00, 2023-02-02 00:00:00, 2023-02-03 00:00:00, 2023-02-04 00:00:00, 2023-02-05 00:00:00, 2023-02-06 00:00:00, 2023-02-07 00:00:00, 2023-02-08 00:00:00, 2023-02-09 00:00:00, 2023-02-10 00:00:00, 2023-02-11 00:00:00, 2023-02-12 00:00:00, 2023-02-13 00:00:00, 2023-02-14 00:00:00, 2023-02-15 00:00:00, 2023-02-16 00:00:00, 2023-02-17 00:00:00, 2023-02-18 00:00:00, 2023-02-19 00:00:00, 2023-02-20 00:00:00, 2023-02-21 00:00:00, 2023-02-22 00:00:00, 2023-02-23 00:00:00, 2023-02-24 00:00:00, 2023-02-25 00:00:00, 2023-02-26 00:00:00, 2023-02-27 00:00:00, 2023-02-28 00:00:00, 2023-03-01 00:00:00, 2023-03-02 00:00:00, 2023-03-03 00:00:00, 2023-03-04 00:00:00, 2023-03-05 00:00:00, 2023-03-06 00:00:00, 2023-03-07 00:00:00, 2023-03-08 00:00:00, 2023-03-09 00:00:00, 2023-03-10 00:00:00, 2023-03-11 00:00:00, 2023-03-12 00:00:00, 2023-03-13 00:00:00, 2023-03-14 00:00:00, 2023-03-15 00:00:00, 2023-03-16 00:00:00, 2023-03-17 00:00:00, 2023-03-18 00:00:00, 2023-03-19 00:00:00, 2023-03-20 00:00:00, 2023-03-21 00:00:00, 2023-03-22 00:00:00, 2023-03-23 00:00:00, 2023-03-24 00:00:00, 2023-03-25 00:00:00, 2023-03-26 00:00:00, 2023-03-27 00:00:00, 2023-03-28 00:00:00, 2023-03-29 00:00:00, 2023-03-30 00:00:00, 2023-03-31 00:00:00, 2023-04-01 00:00:00, 2023-04-02 00:00:00, 2023-04-03 00:00:00, 2023-04-04 00:00:00, 2023-04-05 00:00:00, 2023-04-06 00:00:00, 2023-04-07 00:00:00, 2023-04-08 00:00:00, 2023-04-09 00:00:00, 2023-04-10 00:00:00, ...]\n",
      "\n",
      "[253 rows x 0 columns]\n",
      "            Date\n",
      "Date            \n",
      "2023-01-01     2\n",
      "2023-01-02     2\n",
      "2023-01-03     2\n",
      "2023-01-04     2\n",
      "2023-01-05     2\n",
      "...          ...\n",
      "2023-09-06     2\n",
      "2023-09-07     2\n",
      "2023-09-08     2\n",
      "2023-09-09     2\n",
      "2023-09-10     2\n",
      "\n",
      "[253 rows x 1 columns]\n",
      "            Date\n",
      "Date            \n",
      "2023-01-31   2.0\n",
      "2023-02-28   2.0\n",
      "2023-03-31   2.0\n",
      "2023-04-30   2.0\n",
      "2023-05-31   2.0\n",
      "2023-06-30   2.0\n",
      "2023-07-31   2.0\n",
      "2023-08-31   2.0\n",
      "2023-09-30   2.0\n"
     ]
    },
    {
     "name": "stderr",
     "output_type": "stream",
     "text": [
      "C:\\Users\\Admin\\AppData\\Local\\Temp\\ipykernel_10408\\4164072337.py:10: FutureWarning: 'M' is deprecated and will be removed in a future version, please use 'ME' instead.\n",
      "  monthly_mean = df.resample('M').mean()\n"
     ]
    }
   ],
   "source": [
    "date_rang = pd.date_range(start='2023-01-01', end='2023-09-10')\n",
    "df = pd.DataFrame(date_rang,columns=['Date'])\n",
    "print(df)\n",
    "df.set_index('Date', inplace=True)\n",
    "print(df)\n",
    "\n",
    "df['Date'] = np.random.randint(1,100)\n",
    "print(df)\n",
    "\n",
    "monthly_mean = df.resample('M').mean()\n",
    "print(monthly_mean)"
   ]
  },
  {
   "cell_type": "code",
   "execution_count": 71,
   "id": "9a2828f9",
   "metadata": {},
   "outputs": [
    {
     "name": "stdout",
     "output_type": "stream",
     "text": [
      "          Date\n",
      "0   2021-01-01\n",
      "1   2021-01-02\n",
      "2   2021-01-03\n",
      "3   2021-01-04\n",
      "4   2021-01-05\n",
      "..         ...\n",
      "360 2021-12-27\n",
      "361 2021-12-28\n",
      "362 2021-12-29\n",
      "363 2021-12-30\n",
      "364 2021-12-31\n",
      "\n",
      "[365 rows x 1 columns]\n",
      "Empty DataFrame\n",
      "Columns: []\n",
      "Index: [2021-01-01 00:00:00, 2021-01-02 00:00:00, 2021-01-03 00:00:00, 2021-01-04 00:00:00, 2021-01-05 00:00:00, 2021-01-06 00:00:00, 2021-01-07 00:00:00, 2021-01-08 00:00:00, 2021-01-09 00:00:00, 2021-01-10 00:00:00, 2021-01-11 00:00:00, 2021-01-12 00:00:00, 2021-01-13 00:00:00, 2021-01-14 00:00:00, 2021-01-15 00:00:00, 2021-01-16 00:00:00, 2021-01-17 00:00:00, 2021-01-18 00:00:00, 2021-01-19 00:00:00, 2021-01-20 00:00:00, 2021-01-21 00:00:00, 2021-01-22 00:00:00, 2021-01-23 00:00:00, 2021-01-24 00:00:00, 2021-01-25 00:00:00, 2021-01-26 00:00:00, 2021-01-27 00:00:00, 2021-01-28 00:00:00, 2021-01-29 00:00:00, 2021-01-30 00:00:00, 2021-01-31 00:00:00, 2021-02-01 00:00:00, 2021-02-02 00:00:00, 2021-02-03 00:00:00, 2021-02-04 00:00:00, 2021-02-05 00:00:00, 2021-02-06 00:00:00, 2021-02-07 00:00:00, 2021-02-08 00:00:00, 2021-02-09 00:00:00, 2021-02-10 00:00:00, 2021-02-11 00:00:00, 2021-02-12 00:00:00, 2021-02-13 00:00:00, 2021-02-14 00:00:00, 2021-02-15 00:00:00, 2021-02-16 00:00:00, 2021-02-17 00:00:00, 2021-02-18 00:00:00, 2021-02-19 00:00:00, 2021-02-20 00:00:00, 2021-02-21 00:00:00, 2021-02-22 00:00:00, 2021-02-23 00:00:00, 2021-02-24 00:00:00, 2021-02-25 00:00:00, 2021-02-26 00:00:00, 2021-02-27 00:00:00, 2021-02-28 00:00:00, 2021-03-01 00:00:00, 2021-03-02 00:00:00, 2021-03-03 00:00:00, 2021-03-04 00:00:00, 2021-03-05 00:00:00, 2021-03-06 00:00:00, 2021-03-07 00:00:00, 2021-03-08 00:00:00, 2021-03-09 00:00:00, 2021-03-10 00:00:00, 2021-03-11 00:00:00, 2021-03-12 00:00:00, 2021-03-13 00:00:00, 2021-03-14 00:00:00, 2021-03-15 00:00:00, 2021-03-16 00:00:00, 2021-03-17 00:00:00, 2021-03-18 00:00:00, 2021-03-19 00:00:00, 2021-03-20 00:00:00, 2021-03-21 00:00:00, 2021-03-22 00:00:00, 2021-03-23 00:00:00, 2021-03-24 00:00:00, 2021-03-25 00:00:00, 2021-03-26 00:00:00, 2021-03-27 00:00:00, 2021-03-28 00:00:00, 2021-03-29 00:00:00, 2021-03-30 00:00:00, 2021-03-31 00:00:00, 2021-04-01 00:00:00, 2021-04-02 00:00:00, 2021-04-03 00:00:00, 2021-04-04 00:00:00, 2021-04-05 00:00:00, 2021-04-06 00:00:00, 2021-04-07 00:00:00, 2021-04-08 00:00:00, 2021-04-09 00:00:00, 2021-04-10 00:00:00, ...]\n",
      "\n",
      "[365 rows x 0 columns]\n",
      "            Date\n",
      "Date            \n",
      "2021-01-01    50\n",
      "2021-01-02     9\n",
      "2021-01-03    31\n",
      "2021-01-04    52\n",
      "2021-01-05    82\n",
      "...          ...\n",
      "2021-12-27    94\n",
      "2021-12-28    62\n",
      "2021-12-29    74\n",
      "2021-12-30    13\n",
      "2021-12-31    71\n",
      "\n",
      "[365 rows x 1 columns]\n",
      "rolling_mean                  Date\n",
      "Date                 \n",
      "2021-01-01        NaN\n",
      "2021-01-02        NaN\n",
      "2021-01-03        NaN\n",
      "2021-01-04        NaN\n",
      "2021-01-05        NaN\n",
      "...               ...\n",
      "2021-12-27  66.428571\n",
      "2021-12-28  63.571429\n",
      "2021-12-29  66.285714\n",
      "2021-12-30  54.285714\n",
      "2021-12-31  50.428571\n",
      "\n",
      "[365 rows x 1 columns]\n"
     ]
    }
   ],
   "source": [
    "date_range = pd.date_range(start='2021-01-01',end='2021-12-31')\n",
    "df = pd.DataFrame(date_range, columns=['Date'])\n",
    "print(df)\n",
    "\n",
    "df.set_index('Date',inplace=True)\n",
    "print(df)\n",
    "\n",
    "df['Date'] = np.random.randint(1,100, size=len(df))\n",
    "print(df)\n",
    "\n",
    "rolling_mean = df.rolling(window=7).mean()\n",
    "print(\"rolling_mean\",rolling_mean)\n"
   ]
  },
  {
   "cell_type": "markdown",
   "id": "ba4954ce",
   "metadata": {},
   "source": [
    "### Assignment 7: MultiIndex DataFrame\n",
    "\n",
    "1. Create a Pandas DataFrame with a MultiIndex (hierarchical index). Perform some basic indexing and slicing operations on the MultiIndex DataFrame.\n",
    "2. Create a Pandas DataFrame with MultiIndex consisting of 'Category' and 'SubCategory'. Fill the DataFrame with random data and compute the sum of values for each 'Category' and 'SubCategory'.\n"
   ]
  },
  {
   "cell_type": "code",
   "execution_count": 83,
   "id": "5690bf31",
   "metadata": {},
   "outputs": [
    {
     "name": "stdout",
     "output_type": "stream",
     "text": [
      "MultiIndex([('A', 'one'),\n",
      "            ('A', 'two'),\n",
      "            ('B', 'one'),\n",
      "            ('B', 'two')],\n",
      "           names=['first', 'second'])\n",
      "              Value1  Value2  Value3\n",
      "first second                        \n",
      "A     one         47       6      51\n",
      "      two         60      52       3\n",
      "B     one         35       4      90\n",
      "      two         77      94      65\n",
      "        Value1  Value2  Value3\n",
      "second                        \n",
      "one         47       6      51\n",
      "two         60      52       3\n",
      "Value1    47\n",
      "Value2     6\n",
      "Value3    51\n",
      "Name: (A, one), dtype: int32\n"
     ]
    }
   ],
   "source": [
    "arrays = [['A', 'A', 'B', 'B'], ['one', 'two', 'one', 'two']]\n",
    "index = pd.MultiIndex.from_arrays(arrays=arrays, names=('first', 'second'))\n",
    "print(index)\n",
    "df = pd.DataFrame(np.random.randint(1, 100, size=(4, 3)),index=index, columns=['Value1', 'Value2', 'Value3'])\n",
    "print(df)\n",
    "\n",
    "print(df.loc['A'])\n",
    "print(df.loc['A','one'])"
   ]
  },
  {
   "cell_type": "code",
   "execution_count": 88,
   "id": "370f54fb",
   "metadata": {},
   "outputs": [
    {
     "name": "stdout",
     "output_type": "stream",
     "text": [
      "                      Value1  Value2  Value3\n",
      "Category SubCategory                        \n",
      "A        one              78      49      38\n",
      "         two              27      83       9\n",
      "B        one              82       6      75\n",
      "         two              99      73      67\n",
      "                      Value1  Value2  Value3\n",
      "Category SubCategory                        \n",
      "A        one              78      49      38\n",
      "         two              27      83       9\n",
      "B        one              82       6      75\n",
      "         two              99      73      67\n"
     ]
    }
   ],
   "source": [
    "arrays = [['A', 'A', 'B', 'B'], ['one', 'two', 'one', 'two']]\n",
    "index = pd.MultiIndex.from_arrays(arrays=arrays, names=('Category', 'SubCategory'))\n",
    "\n",
    "df = pd.DataFrame(np.random.randint(1, 100, size=(4, 3)),index=index, columns=['Value1', 'Value2', 'Value3'])\n",
    "print(df)\n",
    "\n",
    "\n",
    "print(df.groupby(['Category','SubCategory']).sum())\n"
   ]
  },
  {
   "cell_type": "markdown",
   "id": "74482698",
   "metadata": {},
   "source": [
    "\n",
    "### Assignment 8: Pivot Tables\n",
    "\n",
    "1. Create a Pandas DataFrame with columns 'Date', 'Category', and 'Value'. Create a pivot table to compute the sum of 'Value' for each 'Category' by 'Date'.\n",
    "2. Create a Pandas DataFrame with columns 'Year', 'Quarter', and 'Revenue'. Create a pivot table to compute the mean 'Revenue' for each 'Quarter' by 'Year'."
   ]
  },
  {
   "cell_type": "code",
   "execution_count": 100,
   "id": "397b4019",
   "metadata": {},
   "outputs": [
    {
     "name": "stdout",
     "output_type": "stream",
     "text": [
      "        Date Category  Value\n",
      "0 2023-01-10        A      4\n",
      "1 2023-01-02        C     42\n",
      "2 2023-01-01        A     33\n",
      "3 2023-01-10        B     25\n",
      "4 2023-01-08        B     22\n",
      "5 2023-01-07        C     44\n",
      "6 2023-01-01        C     68\n",
      "7 2023-01-08        A     23\n",
      "8 2023-01-06        B     72\n",
      "9 2023-01-02        B     95\n",
      "Category       A     B     C\n",
      "Date                        \n",
      "2023-01-01  33.0   NaN  68.0\n",
      "2023-01-02   NaN  95.0  42.0\n",
      "2023-01-06   NaN  72.0   NaN\n",
      "2023-01-07   NaN   NaN  44.0\n",
      "2023-01-08  23.0  22.0   NaN\n",
      "2023-01-10   4.0  25.0   NaN\n"
     ]
    }
   ],
   "source": [
    "columns = ['Date', 'Category', 'Value']\n",
    "df = pd.DataFrame({\"Date\":np.random.choice(pd.date_range('2023-01-01', periods=10), size=10),\n",
    "                   \"Category\":np.random.choice(['A', 'B', 'C'], size=10),\n",
    "                   \"Value\":np.random.randint(1, 100, size=10)})\n",
    "print(df)\n",
    "\n",
    "\n",
    "data = df.groupby(['Date', 'Category'])['Value'].sum()\n",
    "\n",
    "# compute the sum of 'Value' for each 'Category' by 'Date'\n",
    "pivot_table = df.pivot_table(values='Value', index='Date', columns='Category', aggfunc='mean')\n",
    "print(pivot_table)"
   ]
  },
  {
   "cell_type": "code",
   "execution_count": 101,
   "id": "6290e4c4",
   "metadata": {},
   "outputs": [
    {
     "name": "stdout",
     "output_type": "stream",
     "text": [
      "                           Year Quarter  Revenue\n",
      "0 1970-01-01 00:00:00.000002021       C       37\n",
      "1 1970-01-01 00:00:00.000002021       A       48\n",
      "2 1970-01-01 00:00:00.000002021       A       92\n",
      "3 1970-01-01 00:00:00.000002021       C        4\n",
      "4 1970-01-01 00:00:00.000002021       B       99\n",
      "5 1970-01-01 00:00:00.000002021       B       32\n",
      "6 1970-01-01 00:00:00.000002021       C       76\n",
      "7 1970-01-01 00:00:00.000002021       B       20\n",
      "8 1970-01-01 00:00:00.000002021       C       95\n",
      "9 1970-01-01 00:00:00.000002021       C       19\n",
      "Quarter                           A          B     C\n",
      "Year                                                \n",
      "1970-01-01 00:00:00.000002021  70.0  50.333333  46.2\n"
     ]
    }
   ],
   "source": [
    "df = pd.DataFrame({\"Year\":np.random.choice(pd.date_range(2021,2050)),\n",
    "                   \"Quarter\":np.random.choice(['A', 'B', 'C'], size=10),\n",
    "                   \"Revenue\":np.random.randint(1, 100, size=10)})\n",
    "print(df)\n",
    "\n",
    "#compute the mean 'Revenue' for each 'Quarter' by 'Year'\n",
    "pivot_table = df.pivot_table(values='Revenue', index='Year', columns='Quarter', aggfunc='mean')\n",
    "print(pivot_table)"
   ]
  },
  {
   "cell_type": "markdown",
   "id": "2a550115",
   "metadata": {},
   "source": [
    "### Assignment 9: Applying Functions\n",
    "\n",
    "1. Create a Pandas DataFrame with 3 columns and 5 rows filled with random integers. Apply a function that doubles the values of the DataFrame.\n",
    "2. Create a Pandas DataFrame with 3 columns and 6 rows filled with random integers. Apply a lambda function to create a new column that is the sum of the existing columns.\n"
   ]
  },
  {
   "cell_type": "code",
   "execution_count": 105,
   "id": "3549b939",
   "metadata": {},
   "outputs": [
    {
     "name": "stdout",
     "output_type": "stream",
     "text": [
      "          x         y         z\n",
      "0  0.972272  0.961839  0.241927\n",
      "1  0.521740  0.079307  0.957958\n",
      "2  0.052484  0.959841  0.385909\n",
      "3  0.806476  0.622605  0.482755\n",
      "4  0.636811  0.914127  0.976271\n",
      "          x         y         z\n",
      "0  1.944543  1.923678  0.483853\n",
      "1  1.043480  0.158614  1.915915\n",
      "2  0.104969  1.919682  0.771818\n",
      "3  1.612952  1.245211  0.965511\n",
      "4  1.273621  1.828253  1.952542\n"
     ]
    }
   ],
   "source": [
    "df = pd.DataFrame(np.random.rand(5,3), columns=['x', 'y', 'z'])\n",
    "print(df)\n",
    "\n",
    "new_df = df.apply(lambda x: x * 2)\n",
    "print(new_df)"
   ]
  },
  {
   "cell_type": "code",
   "execution_count": 115,
   "id": "4a4577f3",
   "metadata": {},
   "outputs": [
    {
     "name": "stdout",
     "output_type": "stream",
     "text": [
      "          x         y         z\n",
      "0  0.665172  0.810382  0.399484\n",
      "1  0.221873  0.342289  0.599195\n",
      "2  0.521194  0.809578  0.852747\n",
      "3  0.273846  0.336544  0.410013\n",
      "4  0.665553  0.227752  0.910306\n",
      "5  0.447182  0.314544  0.809647\n",
      "          x         y         z  new_cols\n",
      "0  0.665172  0.810382  0.399484  1.875038\n",
      "1  0.221873  0.342289  0.599195  1.163357\n",
      "2  0.521194  0.809578  0.852747  2.183519\n",
      "3  0.273846  0.336544  0.410013  1.020402\n",
      "4  0.665553  0.227752  0.910306  1.803610\n",
      "5  0.447182  0.314544  0.809647  1.571373\n"
     ]
    }
   ],
   "source": [
    "df = pd.DataFrame(np.random.rand(6,3), columns=['x', 'y', 'z'])\n",
    "print(df)\n",
    "\n",
    "df[\"new_cols\"] = df.apply(lambda x:x.sum(), axis=1)\n",
    "print(df)\n"
   ]
  },
  {
   "cell_type": "markdown",
   "id": "071eeb0a",
   "metadata": {},
   "source": [
    "\n",
    "### Assignment 10: Working with Text Data\n",
    "\n",
    "1. Create a Pandas Series with 5 random text strings. Convert all the strings to uppercase.\n",
    "2. Create a Pandas Series with 5 random text strings. Extract the first three characters of each string.\n"
   ]
  },
  {
   "cell_type": "code",
   "execution_count": 121,
   "id": "14c3639a",
   "metadata": {},
   "outputs": [
    {
     "name": "stdout",
     "output_type": "stream",
     "text": [
      "Original Series:\n",
      "0         APPLE\n",
      "1        BANANA\n",
      "2        CHERRY\n",
      "3          DATE\n",
      "4    ELDERBERRY\n",
      "dtype: object\n"
     ]
    }
   ],
   "source": [
    "text_data = pd.Series(['apple', 'banana', 'cherry', 'date', 'elderberry'])\n",
    "print(\"Original Series:\")\n",
    "print(text_data.str.upper())"
   ]
  },
  {
   "cell_type": "code",
   "execution_count": 124,
   "id": "238d1789",
   "metadata": {},
   "outputs": [
    {
     "name": "stdout",
     "output_type": "stream",
     "text": [
      "Original Series:\n",
      "0     apple\n",
      "1    banana\n",
      "2    cherry\n",
      "dtype: object\n"
     ]
    }
   ],
   "source": [
    "text_data = pd.Series(['apple', 'banana', 'cherry', 'date', 'elderberry'])\n",
    "print(\"Original Series:\")\n",
    "print(text_data[:3])"
   ]
  },
  {
   "cell_type": "code",
   "execution_count": null,
   "id": "fd6977e9",
   "metadata": {},
   "outputs": [],
   "source": []
  }
 ],
 "metadata": {
  "kernelspec": {
   "display_name": ".venv",
   "language": "python",
   "name": "python3"
  },
  "language_info": {
   "codemirror_mode": {
    "name": "ipython",
    "version": 3
   },
   "file_extension": ".py",
   "mimetype": "text/x-python",
   "name": "python",
   "nbconvert_exporter": "python",
   "pygments_lexer": "ipython3",
   "version": "3.13.5"
  }
 },
 "nbformat": 4,
 "nbformat_minor": 5
}
